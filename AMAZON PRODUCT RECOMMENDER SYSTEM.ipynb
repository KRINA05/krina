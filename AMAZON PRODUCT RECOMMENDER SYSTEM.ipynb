{
 "cells": [
  {
   "cell_type": "markdown",
   "metadata": {},
   "source": [
    "Types of recommendations\n",
    "\n",
    "1.Popularity based systems :- It works by recommeding items viewed and purchased by most people and are rated high.It is not a personalized recommendation.\n",
    "\n",
    "2.Content based recommedations:- It is based on the information on the contents of the item rather than on the user opinions.The main idea is if the user likes an item then he or she will like the \"other\" similar item.\n",
    "    \n",
    "3.Collaberative Filtering:- It is based on assumption that people like things similar to other things they like, and things that are liked by other people with similar taste. it is mainly of two types: a) User-User b) Item -Item\n"
   ]
  },
  {
   "cell_type": "markdown",
   "metadata": {},
   "source": [
    "Attribute Information:¶\n",
    "    \n",
    "● userId : Every user identified with a unique id\n",
    "\n",
    "● productId : Every product identified with a unique id\n",
    "\n",
    "● Rating : Rating of the corresponding product by the corresponding user\n",
    "\n",
    "● timestamp : Time of the rating ( ignore this column for this exercise)"
   ]
  },
  {
   "cell_type": "code",
   "execution_count": 1,
   "metadata": {},
   "outputs": [],
   "source": [
    "#IMPORTING LIBRARIES"
   ]
  },
  {
   "cell_type": "code",
   "execution_count": 2,
   "metadata": {},
   "outputs": [],
   "source": [
    "import numpy as np\n",
    "import pandas as pd\n",
    "import matplotlib.pyplot as plt\n",
    "import seaborn as sns"
   ]
  },
  {
   "cell_type": "code",
   "execution_count": 3,
   "metadata": {},
   "outputs": [],
   "source": [
    "#LOAD THE DATASET AND ADD HEADERS (SHOES AND JEWELLRY RATINGS IN AMAZON)"
   ]
  },
  {
   "cell_type": "code",
   "execution_count": 4,
   "metadata": {},
   "outputs": [],
   "source": [
    "product_data=pd.read_csv(\"ratings_Clothing_Shoes_and_Jewelry.csv\",names=['User_Id', 'Product_Id','Ratings','Timestamp'])"
   ]
  },
  {
   "cell_type": "code",
   "execution_count": 5,
   "metadata": {},
   "outputs": [
    {
     "data": {
      "text/html": [
       "<div>\n",
       "<style scoped>\n",
       "    .dataframe tbody tr th:only-of-type {\n",
       "        vertical-align: middle;\n",
       "    }\n",
       "\n",
       "    .dataframe tbody tr th {\n",
       "        vertical-align: top;\n",
       "    }\n",
       "\n",
       "    .dataframe thead th {\n",
       "        text-align: right;\n",
       "    }\n",
       "</style>\n",
       "<table border=\"1\" class=\"dataframe\">\n",
       "  <thead>\n",
       "    <tr style=\"text-align: right;\">\n",
       "      <th></th>\n",
       "      <th>User_Id</th>\n",
       "      <th>Product_Id</th>\n",
       "      <th>Ratings</th>\n",
       "      <th>Timestamp</th>\n",
       "    </tr>\n",
       "  </thead>\n",
       "  <tbody>\n",
       "    <tr>\n",
       "      <th>0</th>\n",
       "      <td>A2XVJBSRI3SWDI</td>\n",
       "      <td>0000031887</td>\n",
       "      <td>5.0</td>\n",
       "      <td>1383523200</td>\n",
       "    </tr>\n",
       "    <tr>\n",
       "      <th>1</th>\n",
       "      <td>A2G0LNLN79Q6HR</td>\n",
       "      <td>0000031887</td>\n",
       "      <td>4.0</td>\n",
       "      <td>1337990400</td>\n",
       "    </tr>\n",
       "    <tr>\n",
       "      <th>2</th>\n",
       "      <td>A2R3K1KX09QBYP</td>\n",
       "      <td>0000031887</td>\n",
       "      <td>2.0</td>\n",
       "      <td>1361059200</td>\n",
       "    </tr>\n",
       "    <tr>\n",
       "      <th>3</th>\n",
       "      <td>A19PBP93OF896</td>\n",
       "      <td>0000031887</td>\n",
       "      <td>1.0</td>\n",
       "      <td>1363824000</td>\n",
       "    </tr>\n",
       "    <tr>\n",
       "      <th>4</th>\n",
       "      <td>A1P0IHU93EF9ZK</td>\n",
       "      <td>0000031887</td>\n",
       "      <td>4.0</td>\n",
       "      <td>1390435200</td>\n",
       "    </tr>\n",
       "  </tbody>\n",
       "</table>\n",
       "</div>"
      ],
      "text/plain": [
       "          User_Id  Product_Id  Ratings   Timestamp\n",
       "0  A2XVJBSRI3SWDI  0000031887      5.0  1383523200\n",
       "1  A2G0LNLN79Q6HR  0000031887      4.0  1337990400\n",
       "2  A2R3K1KX09QBYP  0000031887      2.0  1361059200\n",
       "3   A19PBP93OF896  0000031887      1.0  1363824000\n",
       "4  A1P0IHU93EF9ZK  0000031887      4.0  1390435200"
      ]
     },
     "execution_count": 5,
     "metadata": {},
     "output_type": "execute_result"
    }
   ],
   "source": [
    "#DISPLAY THE DATA\n",
    "\n",
    "product_data.head()"
   ]
  },
  {
   "cell_type": "code",
   "execution_count": 6,
   "metadata": {},
   "outputs": [
    {
     "data": {
      "text/plain": [
       "(5748920, 4)"
      ]
     },
     "execution_count": 6,
     "metadata": {},
     "output_type": "execute_result"
    }
   ],
   "source": [
    "#SHAPE OF THE DATA\n",
    "\n",
    "product_data.shape"
   ]
  },
  {
   "cell_type": "code",
   "execution_count": 7,
   "metadata": {},
   "outputs": [
    {
     "data": {
      "text/plain": [
       "User_Id        object\n",
       "Product_Id     object\n",
       "Ratings       float64\n",
       "Timestamp       int64\n",
       "dtype: object"
      ]
     },
     "execution_count": 7,
     "metadata": {},
     "output_type": "execute_result"
    }
   ],
   "source": [
    "#CHECKING THE DATATYPES\n",
    "\n",
    "product_data.dtypes"
   ]
  },
  {
   "cell_type": "code",
   "execution_count": 8,
   "metadata": {},
   "outputs": [
    {
     "name": "stdout",
     "output_type": "stream",
     "text": [
      "<class 'pandas.core.frame.DataFrame'>\n",
      "RangeIndex: 5748920 entries, 0 to 5748919\n",
      "Data columns (total 4 columns):\n",
      " #   Column      Dtype  \n",
      "---  ------      -----  \n",
      " 0   User_Id     object \n",
      " 1   Product_Id  object \n",
      " 2   Ratings     float64\n",
      " 3   Timestamp   int64  \n",
      "dtypes: float64(1), int64(1), object(2)\n",
      "memory usage: 175.4+ MB\n"
     ]
    }
   ],
   "source": [
    "#INFO\n",
    "\n",
    "product_data.info()"
   ]
  },
  {
   "cell_type": "code",
   "execution_count": 9,
   "metadata": {},
   "outputs": [
    {
     "data": {
      "text/html": [
       "<div>\n",
       "<style scoped>\n",
       "    .dataframe tbody tr th:only-of-type {\n",
       "        vertical-align: middle;\n",
       "    }\n",
       "\n",
       "    .dataframe tbody tr th {\n",
       "        vertical-align: top;\n",
       "    }\n",
       "\n",
       "    .dataframe thead th {\n",
       "        text-align: right;\n",
       "    }\n",
       "</style>\n",
       "<table border=\"1\" class=\"dataframe\">\n",
       "  <thead>\n",
       "    <tr style=\"text-align: right;\">\n",
       "      <th></th>\n",
       "      <th>User_Id</th>\n",
       "      <th>Product_Id</th>\n",
       "      <th>Ratings</th>\n",
       "      <th>Timestamp</th>\n",
       "    </tr>\n",
       "  </thead>\n",
       "  <tbody>\n",
       "    <tr>\n",
       "      <th>count</th>\n",
       "      <td>5748920</td>\n",
       "      <td>5748920</td>\n",
       "      <td>5.748920e+06</td>\n",
       "      <td>5.748920e+06</td>\n",
       "    </tr>\n",
       "    <tr>\n",
       "      <th>unique</th>\n",
       "      <td>3117268</td>\n",
       "      <td>1136004</td>\n",
       "      <td>NaN</td>\n",
       "      <td>NaN</td>\n",
       "    </tr>\n",
       "    <tr>\n",
       "      <th>top</th>\n",
       "      <td>A3W4D8XOGLWUN5</td>\n",
       "      <td>B0058XIMMM</td>\n",
       "      <td>NaN</td>\n",
       "      <td>NaN</td>\n",
       "    </tr>\n",
       "    <tr>\n",
       "      <th>freq</th>\n",
       "      <td>349</td>\n",
       "      <td>3047</td>\n",
       "      <td>NaN</td>\n",
       "      <td>NaN</td>\n",
       "    </tr>\n",
       "    <tr>\n",
       "      <th>mean</th>\n",
       "      <td>NaN</td>\n",
       "      <td>NaN</td>\n",
       "      <td>4.144679e+00</td>\n",
       "      <td>1.364519e+09</td>\n",
       "    </tr>\n",
       "    <tr>\n",
       "      <th>std</th>\n",
       "      <td>NaN</td>\n",
       "      <td>NaN</td>\n",
       "      <td>1.233103e+00</td>\n",
       "      <td>4.334200e+07</td>\n",
       "    </tr>\n",
       "    <tr>\n",
       "      <th>min</th>\n",
       "      <td>NaN</td>\n",
       "      <td>NaN</td>\n",
       "      <td>1.000000e+00</td>\n",
       "      <td>9.392544e+08</td>\n",
       "    </tr>\n",
       "    <tr>\n",
       "      <th>25%</th>\n",
       "      <td>NaN</td>\n",
       "      <td>NaN</td>\n",
       "      <td>4.000000e+00</td>\n",
       "      <td>1.355789e+09</td>\n",
       "    </tr>\n",
       "    <tr>\n",
       "      <th>50%</th>\n",
       "      <td>NaN</td>\n",
       "      <td>NaN</td>\n",
       "      <td>5.000000e+00</td>\n",
       "      <td>1.377475e+09</td>\n",
       "    </tr>\n",
       "    <tr>\n",
       "      <th>75%</th>\n",
       "      <td>NaN</td>\n",
       "      <td>NaN</td>\n",
       "      <td>5.000000e+00</td>\n",
       "      <td>1.392682e+09</td>\n",
       "    </tr>\n",
       "    <tr>\n",
       "      <th>max</th>\n",
       "      <td>NaN</td>\n",
       "      <td>NaN</td>\n",
       "      <td>5.000000e+00</td>\n",
       "      <td>1.406074e+09</td>\n",
       "    </tr>\n",
       "  </tbody>\n",
       "</table>\n",
       "</div>"
      ],
      "text/plain": [
       "               User_Id  Product_Id       Ratings     Timestamp\n",
       "count          5748920     5748920  5.748920e+06  5.748920e+06\n",
       "unique         3117268     1136004           NaN           NaN\n",
       "top     A3W4D8XOGLWUN5  B0058XIMMM           NaN           NaN\n",
       "freq               349        3047           NaN           NaN\n",
       "mean               NaN         NaN  4.144679e+00  1.364519e+09\n",
       "std                NaN         NaN  1.233103e+00  4.334200e+07\n",
       "min                NaN         NaN  1.000000e+00  9.392544e+08\n",
       "25%                NaN         NaN  4.000000e+00  1.355789e+09\n",
       "50%                NaN         NaN  5.000000e+00  1.377475e+09\n",
       "75%                NaN         NaN  5.000000e+00  1.392682e+09\n",
       "max                NaN         NaN  5.000000e+00  1.406074e+09"
      ]
     },
     "execution_count": 9,
     "metadata": {},
     "output_type": "execute_result"
    }
   ],
   "source": [
    "#DESCRIBING THE DATA\n",
    "\n",
    "product_data.describe(include='all')"
   ]
  },
  {
   "cell_type": "code",
   "execution_count": 10,
   "metadata": {},
   "outputs": [
    {
     "name": "stdout",
     "output_type": "stream",
     "text": [
      "Minimum rating is: 1\n",
      "Maximum rating is: 5\n"
     ]
    }
   ],
   "source": [
    "#FINDING THE MAXIMUM AND MINIMUM RATINGS\n",
    "\n",
    "print('Minimum rating is: %d' %(product_data.Ratings.min()))\n",
    "print('Maximum rating is: %d' %(product_data.Ratings.max()))"
   ]
  },
  {
   "cell_type": "code",
   "execution_count": 11,
   "metadata": {},
   "outputs": [
    {
     "name": "stdout",
     "output_type": "stream",
     "text": [
      "Number of missing values across columns: \n",
      " User_Id       0\n",
      "Product_Id    0\n",
      "Ratings       0\n",
      "Timestamp     0\n",
      "dtype: int64\n"
     ]
    }
   ],
   "source": [
    "#CHECKING FOR MISSING VALUES\n",
    "\n",
    "print('Number of missing values across columns: \\n',product_data.isnull().sum())"
   ]
  },
  {
   "cell_type": "code",
   "execution_count": 12,
   "metadata": {},
   "outputs": [
    {
     "data": {
      "image/png": "[encoded data removed]",
      "text/plain": [
       "<Figure size 720x360 with 1 Axes>"
      ]
     },
     "metadata": {},
     "output_type": "display_data"
    }
   ],
   "source": [
    "#CHECKING THE DISTRIBUTION OF THE RATING\n",
    "\n",
    "with sns.axes_style('white'):\n",
    "    g = sns.catplot(\"Ratings\", data=product_data, aspect=2.0,kind='count')\n",
    "    g.set_ylabels(\"Total number of ratings\")"
   ]
  },
  {
   "cell_type": "code",
   "execution_count": 13,
   "metadata": {},
   "outputs": [],
   "source": [
    "#UNIQUE USERS AND PRODUCTS"
   ]
  },
  {
   "cell_type": "code",
   "execution_count": 14,
   "metadata": {},
   "outputs": [
    {
     "name": "stdout",
     "output_type": "stream",
     "text": [
      "\n",
      "Total no of ratings : 5748920\n",
      "Total No of Users   : 3117268\n",
      "Total No of products  : 1136004\n"
     ]
    }
   ],
   "source": [
    "print(\"\\nTotal no of ratings :\",product_data.shape[0])\n",
    "print(\"Total No of Users   :\", len(np.unique(product_data.User_Id)))\n",
    "print(\"Total No of products  :\", len(np.unique(product_data.Product_Id)))"
   ]
  },
  {
   "cell_type": "code",
   "execution_count": 15,
   "metadata": {},
   "outputs": [],
   "source": [
    "#DROPPING THE TIMESTAMP COLUMN"
   ]
  },
  {
   "cell_type": "code",
   "execution_count": 16,
   "metadata": {},
   "outputs": [],
   "source": [
    "product_data.drop(['Timestamp'],axis=1,inplace=True)"
   ]
  },
  {
   "cell_type": "code",
   "execution_count": 17,
   "metadata": {},
   "outputs": [],
   "source": [
    "#POPULARUTY BASED RECOMMENDATION SYSTEM"
   ]
  },
  {
   "cell_type": "code",
   "execution_count": 18,
   "metadata": {},
   "outputs": [
    {
     "data": {
      "text/html": [
       "<div>\n",
       "<style scoped>\n",
       "    .dataframe tbody tr th:only-of-type {\n",
       "        vertical-align: middle;\n",
       "    }\n",
       "\n",
       "    .dataframe tbody tr th {\n",
       "        vertical-align: top;\n",
       "    }\n",
       "\n",
       "    .dataframe thead th {\n",
       "        text-align: right;\n",
       "    }\n",
       "</style>\n",
       "<table border=\"1\" class=\"dataframe\">\n",
       "  <thead>\n",
       "    <tr style=\"text-align: right;\">\n",
       "      <th></th>\n",
       "      <th>Ratings</th>\n",
       "    </tr>\n",
       "    <tr>\n",
       "      <th>Product_Id</th>\n",
       "      <th></th>\n",
       "    </tr>\n",
       "  </thead>\n",
       "  <tbody>\n",
       "    <tr>\n",
       "      <th>B0058XIMMM</th>\n",
       "      <td>3047</td>\n",
       "    </tr>\n",
       "    <tr>\n",
       "      <th>B000FBO0DM</th>\n",
       "      <td>2836</td>\n",
       "    </tr>\n",
       "    <tr>\n",
       "      <th>B000NZW3J8</th>\n",
       "      <td>2797</td>\n",
       "    </tr>\n",
       "    <tr>\n",
       "      <th>B005LERHD8</th>\n",
       "      <td>2781</td>\n",
       "    </tr>\n",
       "    <tr>\n",
       "      <th>B006PGGJOE</th>\n",
       "      <td>2773</td>\n",
       "    </tr>\n",
       "    <tr>\n",
       "      <th>B000T9VK56</th>\n",
       "      <td>2685</td>\n",
       "    </tr>\n",
       "    <tr>\n",
       "      <th>B00012O12A</th>\n",
       "      <td>2214</td>\n",
       "    </tr>\n",
       "    <tr>\n",
       "      <th>B0000C321X</th>\n",
       "      <td>2105</td>\n",
       "    </tr>\n",
       "    <tr>\n",
       "      <th>B000O32MLI</th>\n",
       "      <td>2057</td>\n",
       "    </tr>\n",
       "    <tr>\n",
       "      <th>B000XDDERK</th>\n",
       "      <td>1861</td>\n",
       "    </tr>\n",
       "  </tbody>\n",
       "</table>\n",
       "</div>"
      ],
      "text/plain": [
       "            Ratings\n",
       "Product_Id         \n",
       "B0058XIMMM     3047\n",
       "B000FBO0DM     2836\n",
       "B000NZW3J8     2797\n",
       "B005LERHD8     2781\n",
       "B006PGGJOE     2773\n",
       "B000T9VK56     2685\n",
       "B00012O12A     2214\n",
       "B0000C321X     2105\n",
       "B000O32MLI     2057\n",
       "B000XDDERK     1861"
      ]
     },
     "execution_count": 18,
     "metadata": {},
     "output_type": "execute_result"
    }
   ],
   "source": [
    "popular_products=pd.DataFrame(product_data.groupby('Product_Id')['Ratings'].count())\n",
    "most_popular=popular_products.sort_values('Ratings',ascending=False)\n",
    "most_popular.head(10)"
   ]
  },
  {
   "cell_type": "code",
   "execution_count": 19,
   "metadata": {},
   "outputs": [
    {
     "data": {
      "text/plain": [
       "<matplotlib.axes._subplots.AxesSubplot at 0x1d209e1cd08>"
      ]
     },
     "execution_count": 19,
     "metadata": {},
     "output_type": "execute_result"
    },
    {
     "data": {
      "image/png": "[encoded data removed]",
      "text/plain": [
       "<Figure size 432x288 with 1 Axes>"
      ]
     },
     "metadata": {
      "needs_background": "light"
     },
     "output_type": "display_data"
    }
   ],
   "source": [
    "most_popular.head(20).plot(kind = \"bar\")"
   ]
  },
  {
   "cell_type": "markdown",
   "metadata": {},
   "source": [
    "Analysis:-\n",
    "\n",
    "The above graph gives us the most popular products (arranged in descending order) sold by the business.\n",
    "\n",
    "For eaxmple, product, ID # B0058XIMMM has sales of over 3000, the next most popular product, ID #B000FBO0DM  has sales of 2800, etc."
   ]
  },
  {
   "cell_type": "markdown",
   "metadata": {},
   "source": [
    "The product which has most number of ratings is the most popular product."
   ]
  },
  {
   "cell_type": "code",
   "execution_count": 40,
   "metadata": {},
   "outputs": [],
   "source": [
    "#NEAREST NEIGHBOR ITEM BASED COLLABORATIVE FILTERING"
   ]
  },
  {
   "cell_type": "markdown",
   "metadata": {},
   "source": [
    "kNN is a ML algorithm to find clusters of similar users based on product ratiings, and make predictions using the average rating of top-k nearest neighbors . For example, we present ratings in a matrix with the matrix having one row for easch item (product) and one column for each user."
   ]
  },
  {
   "cell_type": "markdown",
   "metadata": {},
   "source": [
    "Then for each and every product how many total rating we will calculate new column that is total rating"
   ]
  },
  {
   "cell_type": "code",
   "execution_count": 21,
   "metadata": {},
   "outputs": [],
   "source": [
    "#Taking subset of the dataset\n",
    "product_data=product_data.iloc[:100000,0:]"
   ]
  },
  {
   "cell_type": "code",
   "execution_count": 22,
   "metadata": {},
   "outputs": [
    {
     "data": {
      "text/html": [
       "<div>\n",
       "<style scoped>\n",
       "    .dataframe tbody tr th:only-of-type {\n",
       "        vertical-align: middle;\n",
       "    }\n",
       "\n",
       "    .dataframe tbody tr th {\n",
       "        vertical-align: top;\n",
       "    }\n",
       "\n",
       "    .dataframe thead th {\n",
       "        text-align: right;\n",
       "    }\n",
       "</style>\n",
       "<table border=\"1\" class=\"dataframe\">\n",
       "  <thead>\n",
       "    <tr style=\"text-align: right;\">\n",
       "      <th></th>\n",
       "      <th>Product_Id</th>\n",
       "      <th>totalRatingCount</th>\n",
       "    </tr>\n",
       "  </thead>\n",
       "  <tbody>\n",
       "    <tr>\n",
       "      <th>0</th>\n",
       "      <td>0000031887</td>\n",
       "      <td>236</td>\n",
       "    </tr>\n",
       "    <tr>\n",
       "      <th>1</th>\n",
       "      <td>0000037214</td>\n",
       "      <td>1</td>\n",
       "    </tr>\n",
       "    <tr>\n",
       "      <th>2</th>\n",
       "      <td>0123456479</td>\n",
       "      <td>78</td>\n",
       "    </tr>\n",
       "    <tr>\n",
       "      <th>3</th>\n",
       "      <td>0456787283</td>\n",
       "      <td>1</td>\n",
       "    </tr>\n",
       "    <tr>\n",
       "      <th>4</th>\n",
       "      <td>0456808574</td>\n",
       "      <td>1</td>\n",
       "    </tr>\n",
       "  </tbody>\n",
       "</table>\n",
       "</div>"
      ],
      "text/plain": [
       "   Product_Id  totalRatingCount\n",
       "0  0000031887               236\n",
       "1  0000037214                 1\n",
       "2  0123456479                78\n",
       "3  0456787283                 1\n",
       "4  0456808574                 1"
      ]
     },
     "execution_count": 22,
     "metadata": {},
     "output_type": "execute_result"
    }
   ],
   "source": [
    "#creating column with totalratingcount for each product given by the users\n",
    "\n",
    "combine_product_rating = product_data.dropna(axis = 0, subset = ['Product_Id'])\n",
    "product_ratingCount = (combine_product_rating.\n",
    "     groupby(by = ['Product_Id'])['Ratings'].\n",
    "     count().\n",
    "     reset_index().\n",
    "     rename(columns = {'Ratings': 'totalRatingCount'})\n",
    "     [['Product_Id', 'totalRatingCount']]\n",
    "    )\n",
    "product_ratingCount.head()"
   ]
  },
  {
   "cell_type": "code",
   "execution_count": 23,
   "metadata": {
    "scrolled": true
   },
   "outputs": [
    {
     "data": {
      "text/html": [
       "<div>\n",
       "<style scoped>\n",
       "    .dataframe tbody tr th:only-of-type {\n",
       "        vertical-align: middle;\n",
       "    }\n",
       "\n",
       "    .dataframe tbody tr th {\n",
       "        vertical-align: top;\n",
       "    }\n",
       "\n",
       "    .dataframe thead th {\n",
       "        text-align: right;\n",
       "    }\n",
       "</style>\n",
       "<table border=\"1\" class=\"dataframe\">\n",
       "  <thead>\n",
       "    <tr style=\"text-align: right;\">\n",
       "      <th></th>\n",
       "      <th>User_Id</th>\n",
       "      <th>Product_Id</th>\n",
       "      <th>Ratings</th>\n",
       "      <th>totalRatingCount</th>\n",
       "    </tr>\n",
       "  </thead>\n",
       "  <tbody>\n",
       "    <tr>\n",
       "      <th>0</th>\n",
       "      <td>A2XVJBSRI3SWDI</td>\n",
       "      <td>0000031887</td>\n",
       "      <td>5.0</td>\n",
       "      <td>236</td>\n",
       "    </tr>\n",
       "    <tr>\n",
       "      <th>1</th>\n",
       "      <td>A2G0LNLN79Q6HR</td>\n",
       "      <td>0000031887</td>\n",
       "      <td>4.0</td>\n",
       "      <td>236</td>\n",
       "    </tr>\n",
       "    <tr>\n",
       "      <th>2</th>\n",
       "      <td>A2R3K1KX09QBYP</td>\n",
       "      <td>0000031887</td>\n",
       "      <td>2.0</td>\n",
       "      <td>236</td>\n",
       "    </tr>\n",
       "    <tr>\n",
       "      <th>3</th>\n",
       "      <td>A19PBP93OF896</td>\n",
       "      <td>0000031887</td>\n",
       "      <td>1.0</td>\n",
       "      <td>236</td>\n",
       "    </tr>\n",
       "    <tr>\n",
       "      <th>4</th>\n",
       "      <td>A1P0IHU93EF9ZK</td>\n",
       "      <td>0000031887</td>\n",
       "      <td>4.0</td>\n",
       "      <td>236</td>\n",
       "    </tr>\n",
       "  </tbody>\n",
       "</table>\n",
       "</div>"
      ],
      "text/plain": [
       "          User_Id  Product_Id  Ratings  totalRatingCount\n",
       "0  A2XVJBSRI3SWDI  0000031887      5.0               236\n",
       "1  A2G0LNLN79Q6HR  0000031887      4.0               236\n",
       "2  A2R3K1KX09QBYP  0000031887      2.0               236\n",
       "3   A19PBP93OF896  0000031887      1.0               236\n",
       "4  A1P0IHU93EF9ZK  0000031887      4.0               236"
      ]
     },
     "execution_count": 23,
     "metadata": {},
     "output_type": "execute_result"
    }
   ],
   "source": [
    "#combining the column totalratingcount with original df\n",
    "\n",
    "rating_with_totalRatingCount = combine_product_rating.merge(product_ratingCount, left_on = 'Product_Id', right_on = 'Product_Id', how = 'left')\n",
    "rating_with_totalRatingCount.head()"
   ]
  },
  {
   "cell_type": "code",
   "execution_count": 25,
   "metadata": {},
   "outputs": [
    {
     "data": {
      "text/html": [
       "<div>\n",
       "<style scoped>\n",
       "    .dataframe tbody tr th:only-of-type {\n",
       "        vertical-align: middle;\n",
       "    }\n",
       "\n",
       "    .dataframe tbody tr th {\n",
       "        vertical-align: top;\n",
       "    }\n",
       "\n",
       "    .dataframe thead th {\n",
       "        text-align: right;\n",
       "    }\n",
       "</style>\n",
       "<table border=\"1\" class=\"dataframe\">\n",
       "  <thead>\n",
       "    <tr style=\"text-align: right;\">\n",
       "      <th></th>\n",
       "      <th>User_Id</th>\n",
       "      <th>Product_Id</th>\n",
       "      <th>Ratings</th>\n",
       "      <th>totalRatingCount</th>\n",
       "    </tr>\n",
       "  </thead>\n",
       "  <tbody>\n",
       "    <tr>\n",
       "      <th>0</th>\n",
       "      <td>A2XVJBSRI3SWDI</td>\n",
       "      <td>0000031887</td>\n",
       "      <td>5.000</td>\n",
       "      <td>236</td>\n",
       "    </tr>\n",
       "    <tr>\n",
       "      <th>1</th>\n",
       "      <td>A2G0LNLN79Q6HR</td>\n",
       "      <td>0000031887</td>\n",
       "      <td>4.000</td>\n",
       "      <td>236</td>\n",
       "    </tr>\n",
       "    <tr>\n",
       "      <th>2</th>\n",
       "      <td>A2R3K1KX09QBYP</td>\n",
       "      <td>0000031887</td>\n",
       "      <td>2.000</td>\n",
       "      <td>236</td>\n",
       "    </tr>\n",
       "    <tr>\n",
       "      <th>3</th>\n",
       "      <td>A19PBP93OF896</td>\n",
       "      <td>0000031887</td>\n",
       "      <td>1.000</td>\n",
       "      <td>236</td>\n",
       "    </tr>\n",
       "    <tr>\n",
       "      <th>4</th>\n",
       "      <td>A1P0IHU93EF9ZK</td>\n",
       "      <td>0000031887</td>\n",
       "      <td>4.000</td>\n",
       "      <td>236</td>\n",
       "    </tr>\n",
       "  </tbody>\n",
       "</table>\n",
       "</div>"
      ],
      "text/plain": [
       "          User_Id  Product_Id  Ratings  totalRatingCount\n",
       "0  A2XVJBSRI3SWDI  0000031887    5.000               236\n",
       "1  A2G0LNLN79Q6HR  0000031887    4.000               236\n",
       "2  A2R3K1KX09QBYP  0000031887    2.000               236\n",
       "3   A19PBP93OF896  0000031887    1.000               236\n",
       "4  A1P0IHU93EF9ZK  0000031887    4.000               236"
      ]
     },
     "execution_count": 25,
     "metadata": {},
     "output_type": "execute_result"
    }
   ],
   "source": [
    "# with totalrating count >50 then only we consider that product\n",
    "\n",
    "popularity_threshold = 50\n",
    "rating_popular_product= rating_with_totalRatingCount.query('totalRatingCount >= @popularity_threshold')\n",
    "rating_popular_product.head()"
   ]
  },
  {
   "cell_type": "code",
   "execution_count": 26,
   "metadata": {},
   "outputs": [
    {
     "data": {
      "text/plain": [
       "(71256, 4)"
      ]
     },
     "execution_count": 26,
     "metadata": {},
     "output_type": "execute_result"
    }
   ],
   "source": [
    "rating_popular_product.shape"
   ]
  },
  {
   "cell_type": "code",
   "execution_count": 28,
   "metadata": {},
   "outputs": [
    {
     "data": {
      "text/html": [
       "<div>\n",
       "<style scoped>\n",
       "    .dataframe tbody tr th:only-of-type {\n",
       "        vertical-align: middle;\n",
       "    }\n",
       "\n",
       "    .dataframe tbody tr th {\n",
       "        vertical-align: top;\n",
       "    }\n",
       "\n",
       "    .dataframe thead th {\n",
       "        text-align: right;\n",
       "    }\n",
       "</style>\n",
       "<table border=\"1\" class=\"dataframe\">\n",
       "  <thead>\n",
       "    <tr style=\"text-align: right;\">\n",
       "      <th>User_Id</th>\n",
       "      <th>A0010876CNE3ILIM9HV0</th>\n",
       "      <th>A002971836EL17MBMEJ9U</th>\n",
       "      <th>A00341903TT44QTIBXWZC</th>\n",
       "      <th>A00618841YOLM01K79Z8P</th>\n",
       "      <th>A00635603LUUJQPQWSJW1</th>\n",
       "      <th>A006691321KQETNLF2AUR</th>\n",
       "      <th>A00678552PJMSLWDEUVT2</th>\n",
       "      <th>A0096585SGN72YC4RMDV</th>\n",
       "      <th>A0096637H8A2HR1P2MRH</th>\n",
       "      <th>A01086133UN669FB4IGT5</th>\n",
       "      <th>...</th>\n",
       "      <th>AZZIR2M36EGED</th>\n",
       "      <th>AZZJ3Z0NP2F2O</th>\n",
       "      <th>AZZLE0BWGUCMA</th>\n",
       "      <th>AZZMDW27MUJR6</th>\n",
       "      <th>AZZO5BF7J2MQ3</th>\n",
       "      <th>AZZOCU3SC5UPL</th>\n",
       "      <th>AZZOVA4R01IJ</th>\n",
       "      <th>AZZPXOXHYXG0F</th>\n",
       "      <th>AZZQWFXGO0A0L</th>\n",
       "      <th>AZZTOUKVTUMVM</th>\n",
       "    </tr>\n",
       "    <tr>\n",
       "      <th>Product_Id</th>\n",
       "      <th></th>\n",
       "      <th></th>\n",
       "      <th></th>\n",
       "      <th></th>\n",
       "      <th></th>\n",
       "      <th></th>\n",
       "      <th></th>\n",
       "      <th></th>\n",
       "      <th></th>\n",
       "      <th></th>\n",
       "      <th></th>\n",
       "      <th></th>\n",
       "      <th></th>\n",
       "      <th></th>\n",
       "      <th></th>\n",
       "      <th></th>\n",
       "      <th></th>\n",
       "      <th></th>\n",
       "      <th></th>\n",
       "      <th></th>\n",
       "      <th></th>\n",
       "    </tr>\n",
       "  </thead>\n",
       "  <tbody>\n",
       "    <tr>\n",
       "      <th>0000031887</th>\n",
       "      <td>0.000</td>\n",
       "      <td>0.000</td>\n",
       "      <td>0.000</td>\n",
       "      <td>0.000</td>\n",
       "      <td>0.000</td>\n",
       "      <td>0.000</td>\n",
       "      <td>0.000</td>\n",
       "      <td>0.000</td>\n",
       "      <td>0.000</td>\n",
       "      <td>0.000</td>\n",
       "      <td>...</td>\n",
       "      <td>0.000</td>\n",
       "      <td>0.000</td>\n",
       "      <td>0.000</td>\n",
       "      <td>0.000</td>\n",
       "      <td>0.000</td>\n",
       "      <td>0.000</td>\n",
       "      <td>0.000</td>\n",
       "      <td>0.000</td>\n",
       "      <td>0.000</td>\n",
       "      <td>0.000</td>\n",
       "    </tr>\n",
       "    <tr>\n",
       "      <th>0123456479</th>\n",
       "      <td>0.000</td>\n",
       "      <td>0.000</td>\n",
       "      <td>0.000</td>\n",
       "      <td>0.000</td>\n",
       "      <td>0.000</td>\n",
       "      <td>0.000</td>\n",
       "      <td>0.000</td>\n",
       "      <td>0.000</td>\n",
       "      <td>0.000</td>\n",
       "      <td>0.000</td>\n",
       "      <td>...</td>\n",
       "      <td>0.000</td>\n",
       "      <td>0.000</td>\n",
       "      <td>0.000</td>\n",
       "      <td>0.000</td>\n",
       "      <td>0.000</td>\n",
       "      <td>0.000</td>\n",
       "      <td>0.000</td>\n",
       "      <td>0.000</td>\n",
       "      <td>0.000</td>\n",
       "      <td>0.000</td>\n",
       "    </tr>\n",
       "    <tr>\n",
       "      <th>1608299953</th>\n",
       "      <td>0.000</td>\n",
       "      <td>0.000</td>\n",
       "      <td>0.000</td>\n",
       "      <td>0.000</td>\n",
       "      <td>0.000</td>\n",
       "      <td>0.000</td>\n",
       "      <td>0.000</td>\n",
       "      <td>0.000</td>\n",
       "      <td>0.000</td>\n",
       "      <td>0.000</td>\n",
       "      <td>...</td>\n",
       "      <td>0.000</td>\n",
       "      <td>0.000</td>\n",
       "      <td>0.000</td>\n",
       "      <td>0.000</td>\n",
       "      <td>0.000</td>\n",
       "      <td>0.000</td>\n",
       "      <td>0.000</td>\n",
       "      <td>0.000</td>\n",
       "      <td>0.000</td>\n",
       "      <td>0.000</td>\n",
       "    </tr>\n",
       "    <tr>\n",
       "      <th>1617160377</th>\n",
       "      <td>0.000</td>\n",
       "      <td>0.000</td>\n",
       "      <td>0.000</td>\n",
       "      <td>0.000</td>\n",
       "      <td>0.000</td>\n",
       "      <td>0.000</td>\n",
       "      <td>0.000</td>\n",
       "      <td>0.000</td>\n",
       "      <td>0.000</td>\n",
       "      <td>0.000</td>\n",
       "      <td>...</td>\n",
       "      <td>0.000</td>\n",
       "      <td>0.000</td>\n",
       "      <td>0.000</td>\n",
       "      <td>0.000</td>\n",
       "      <td>0.000</td>\n",
       "      <td>0.000</td>\n",
       "      <td>0.000</td>\n",
       "      <td>0.000</td>\n",
       "      <td>0.000</td>\n",
       "      <td>0.000</td>\n",
       "    </tr>\n",
       "    <tr>\n",
       "      <th>B00001W0GC</th>\n",
       "      <td>0.000</td>\n",
       "      <td>0.000</td>\n",
       "      <td>0.000</td>\n",
       "      <td>0.000</td>\n",
       "      <td>0.000</td>\n",
       "      <td>0.000</td>\n",
       "      <td>0.000</td>\n",
       "      <td>0.000</td>\n",
       "      <td>0.000</td>\n",
       "      <td>0.000</td>\n",
       "      <td>...</td>\n",
       "      <td>0.000</td>\n",
       "      <td>0.000</td>\n",
       "      <td>0.000</td>\n",
       "      <td>0.000</td>\n",
       "      <td>0.000</td>\n",
       "      <td>0.000</td>\n",
       "      <td>0.000</td>\n",
       "      <td>0.000</td>\n",
       "      <td>0.000</td>\n",
       "      <td>0.000</td>\n",
       "    </tr>\n",
       "  </tbody>\n",
       "</table>\n",
       "<p>5 rows × 68937 columns</p>\n",
       "</div>"
      ],
      "text/plain": [
       "User_Id     A0010876CNE3ILIM9HV0  A002971836EL17MBMEJ9U  \\\n",
       "Product_Id                                                \n",
       "0000031887                 0.000                  0.000   \n",
       "0123456479                 0.000                  0.000   \n",
       "1608299953                 0.000                  0.000   \n",
       "1617160377                 0.000                  0.000   \n",
       "B00001W0GC                 0.000                  0.000   \n",
       "\n",
       "User_Id     A00341903TT44QTIBXWZC  A00618841YOLM01K79Z8P  \\\n",
       "Product_Id                                                 \n",
       "0000031887                  0.000                  0.000   \n",
       "0123456479                  0.000                  0.000   \n",
       "1608299953                  0.000                  0.000   \n",
       "1617160377                  0.000                  0.000   \n",
       "B00001W0GC                  0.000                  0.000   \n",
       "\n",
       "User_Id     A00635603LUUJQPQWSJW1  A006691321KQETNLF2AUR  \\\n",
       "Product_Id                                                 \n",
       "0000031887                  0.000                  0.000   \n",
       "0123456479                  0.000                  0.000   \n",
       "1608299953                  0.000                  0.000   \n",
       "1617160377                  0.000                  0.000   \n",
       "B00001W0GC                  0.000                  0.000   \n",
       "\n",
       "User_Id     A00678552PJMSLWDEUVT2  A0096585SGN72YC4RMDV  A0096637H8A2HR1P2MRH  \\\n",
       "Product_Id                                                                      \n",
       "0000031887                  0.000                 0.000                 0.000   \n",
       "0123456479                  0.000                 0.000                 0.000   \n",
       "1608299953                  0.000                 0.000                 0.000   \n",
       "1617160377                  0.000                 0.000                 0.000   \n",
       "B00001W0GC                  0.000                 0.000                 0.000   \n",
       "\n",
       "User_Id     A01086133UN669FB4IGT5  ...  AZZIR2M36EGED  AZZJ3Z0NP2F2O  \\\n",
       "Product_Id                         ...                                 \n",
       "0000031887                  0.000  ...          0.000          0.000   \n",
       "0123456479                  0.000  ...          0.000          0.000   \n",
       "1608299953                  0.000  ...          0.000          0.000   \n",
       "1617160377                  0.000  ...          0.000          0.000   \n",
       "B00001W0GC                  0.000  ...          0.000          0.000   \n",
       "\n",
       "User_Id     AZZLE0BWGUCMA  AZZMDW27MUJR6  AZZO5BF7J2MQ3  AZZOCU3SC5UPL  \\\n",
       "Product_Id                                                               \n",
       "0000031887          0.000          0.000          0.000          0.000   \n",
       "0123456479          0.000          0.000          0.000          0.000   \n",
       "1608299953          0.000          0.000          0.000          0.000   \n",
       "1617160377          0.000          0.000          0.000          0.000   \n",
       "B00001W0GC          0.000          0.000          0.000          0.000   \n",
       "\n",
       "User_Id     AZZOVA4R01IJ  AZZPXOXHYXG0F  AZZQWFXGO0A0L  AZZTOUKVTUMVM  \n",
       "Product_Id                                                             \n",
       "0000031887         0.000          0.000          0.000          0.000  \n",
       "0123456479         0.000          0.000          0.000          0.000  \n",
       "1608299953         0.000          0.000          0.000          0.000  \n",
       "1617160377         0.000          0.000          0.000          0.000  \n",
       "B00001W0GC         0.000          0.000          0.000          0.000  \n",
       "\n",
       "[5 rows x 68937 columns]"
      ]
     },
     "execution_count": 28,
     "metadata": {},
     "output_type": "execute_result"
    }
   ],
   "source": [
    "## First lets create a Pivot table\n",
    "\n",
    "product_features_df=rating_popular_product.pivot_table(index='Product_Id',columns='User_Id',values='Ratings').fillna(0)\n",
    "product_features_df.head()"
   ]
  },
  {
   "cell_type": "code",
   "execution_count": 29,
   "metadata": {},
   "outputs": [
    {
     "data": {
      "text/plain": [
       "NearestNeighbors(algorithm='brute', leaf_size=30, metric='cosine',\n",
       "                 metric_params=None, n_jobs=None, n_neighbors=5, p=2,\n",
       "                 radius=1.0)"
      ]
     },
     "execution_count": 29,
     "metadata": {},
     "output_type": "execute_result"
    }
   ],
   "source": [
    "#then convert into a matrix form\n",
    "\n",
    "from scipy.sparse import csr_matrix\n",
    "\n",
    "product_features_df_matrix = csr_matrix(product_features_df.values)\n",
    "\n",
    "#apply knn\n",
    "\n",
    "from sklearn.neighbors import NearestNeighbors\n",
    "\n",
    "\n",
    "model_knn = NearestNeighbors(metric = 'cosine', algorithm = 'brute')\n",
    "model_knn.fit(product_features_df_matrix)"
   ]
  },
  {
   "cell_type": "code",
   "execution_count": 30,
   "metadata": {},
   "outputs": [
    {
     "data": {
      "text/plain": [
       "(390, 68937)"
      ]
     },
     "execution_count": 30,
     "metadata": {},
     "output_type": "execute_result"
    }
   ],
   "source": [
    "product_features_df.shape"
   ]
  },
  {
   "cell_type": "code",
   "execution_count": 36,
   "metadata": {
    "scrolled": true
   },
   "outputs": [
    {
     "name": "stdout",
     "output_type": "stream",
     "text": [
      "65\n"
     ]
    }
   ],
   "source": [
    "query_index = np.random.choice(product_features_df.shape[0])\n",
    "print(query_index)\n",
    "distances, indices = model_knn.kneighbors(product_features_df.iloc[query_index,:].values.reshape(1, -1), n_neighbors = 6)"
   ]
  },
  {
   "cell_type": "code",
   "execution_count": 37,
   "metadata": {},
   "outputs": [
    {
     "data": {
      "text/html": [
       "<div>\n",
       "<style scoped>\n",
       "    .dataframe tbody tr th:only-of-type {\n",
       "        vertical-align: middle;\n",
       "    }\n",
       "\n",
       "    .dataframe tbody tr th {\n",
       "        vertical-align: top;\n",
       "    }\n",
       "\n",
       "    .dataframe thead th {\n",
       "        text-align: right;\n",
       "    }\n",
       "</style>\n",
       "<table border=\"1\" class=\"dataframe\">\n",
       "  <thead>\n",
       "    <tr style=\"text-align: right;\">\n",
       "      <th>User_Id</th>\n",
       "      <th>A0010876CNE3ILIM9HV0</th>\n",
       "      <th>A002971836EL17MBMEJ9U</th>\n",
       "      <th>A00341903TT44QTIBXWZC</th>\n",
       "      <th>A00618841YOLM01K79Z8P</th>\n",
       "      <th>A00635603LUUJQPQWSJW1</th>\n",
       "      <th>A006691321KQETNLF2AUR</th>\n",
       "      <th>A00678552PJMSLWDEUVT2</th>\n",
       "      <th>A0096585SGN72YC4RMDV</th>\n",
       "      <th>A0096637H8A2HR1P2MRH</th>\n",
       "      <th>A01086133UN669FB4IGT5</th>\n",
       "      <th>...</th>\n",
       "      <th>AZZIR2M36EGED</th>\n",
       "      <th>AZZJ3Z0NP2F2O</th>\n",
       "      <th>AZZLE0BWGUCMA</th>\n",
       "      <th>AZZMDW27MUJR6</th>\n",
       "      <th>AZZO5BF7J2MQ3</th>\n",
       "      <th>AZZOCU3SC5UPL</th>\n",
       "      <th>AZZOVA4R01IJ</th>\n",
       "      <th>AZZPXOXHYXG0F</th>\n",
       "      <th>AZZQWFXGO0A0L</th>\n",
       "      <th>AZZTOUKVTUMVM</th>\n",
       "    </tr>\n",
       "    <tr>\n",
       "      <th>Product_Id</th>\n",
       "      <th></th>\n",
       "      <th></th>\n",
       "      <th></th>\n",
       "      <th></th>\n",
       "      <th></th>\n",
       "      <th></th>\n",
       "      <th></th>\n",
       "      <th></th>\n",
       "      <th></th>\n",
       "      <th></th>\n",
       "      <th></th>\n",
       "      <th></th>\n",
       "      <th></th>\n",
       "      <th></th>\n",
       "      <th></th>\n",
       "      <th></th>\n",
       "      <th></th>\n",
       "      <th></th>\n",
       "      <th></th>\n",
       "      <th></th>\n",
       "      <th></th>\n",
       "    </tr>\n",
       "  </thead>\n",
       "  <tbody>\n",
       "    <tr>\n",
       "      <th>0000031887</th>\n",
       "      <td>0.000</td>\n",
       "      <td>0.000</td>\n",
       "      <td>0.000</td>\n",
       "      <td>0.000</td>\n",
       "      <td>0.000</td>\n",
       "      <td>0.000</td>\n",
       "      <td>0.000</td>\n",
       "      <td>0.000</td>\n",
       "      <td>0.000</td>\n",
       "      <td>0.000</td>\n",
       "      <td>...</td>\n",
       "      <td>0.000</td>\n",
       "      <td>0.000</td>\n",
       "      <td>0.000</td>\n",
       "      <td>0.000</td>\n",
       "      <td>0.000</td>\n",
       "      <td>0.000</td>\n",
       "      <td>0.000</td>\n",
       "      <td>0.000</td>\n",
       "      <td>0.000</td>\n",
       "      <td>0.000</td>\n",
       "    </tr>\n",
       "    <tr>\n",
       "      <th>0123456479</th>\n",
       "      <td>0.000</td>\n",
       "      <td>0.000</td>\n",
       "      <td>0.000</td>\n",
       "      <td>0.000</td>\n",
       "      <td>0.000</td>\n",
       "      <td>0.000</td>\n",
       "      <td>0.000</td>\n",
       "      <td>0.000</td>\n",
       "      <td>0.000</td>\n",
       "      <td>0.000</td>\n",
       "      <td>...</td>\n",
       "      <td>0.000</td>\n",
       "      <td>0.000</td>\n",
       "      <td>0.000</td>\n",
       "      <td>0.000</td>\n",
       "      <td>0.000</td>\n",
       "      <td>0.000</td>\n",
       "      <td>0.000</td>\n",
       "      <td>0.000</td>\n",
       "      <td>0.000</td>\n",
       "      <td>0.000</td>\n",
       "    </tr>\n",
       "    <tr>\n",
       "      <th>1608299953</th>\n",
       "      <td>0.000</td>\n",
       "      <td>0.000</td>\n",
       "      <td>0.000</td>\n",
       "      <td>0.000</td>\n",
       "      <td>0.000</td>\n",
       "      <td>0.000</td>\n",
       "      <td>0.000</td>\n",
       "      <td>0.000</td>\n",
       "      <td>0.000</td>\n",
       "      <td>0.000</td>\n",
       "      <td>...</td>\n",
       "      <td>0.000</td>\n",
       "      <td>0.000</td>\n",
       "      <td>0.000</td>\n",
       "      <td>0.000</td>\n",
       "      <td>0.000</td>\n",
       "      <td>0.000</td>\n",
       "      <td>0.000</td>\n",
       "      <td>0.000</td>\n",
       "      <td>0.000</td>\n",
       "      <td>0.000</td>\n",
       "    </tr>\n",
       "    <tr>\n",
       "      <th>1617160377</th>\n",
       "      <td>0.000</td>\n",
       "      <td>0.000</td>\n",
       "      <td>0.000</td>\n",
       "      <td>0.000</td>\n",
       "      <td>0.000</td>\n",
       "      <td>0.000</td>\n",
       "      <td>0.000</td>\n",
       "      <td>0.000</td>\n",
       "      <td>0.000</td>\n",
       "      <td>0.000</td>\n",
       "      <td>...</td>\n",
       "      <td>0.000</td>\n",
       "      <td>0.000</td>\n",
       "      <td>0.000</td>\n",
       "      <td>0.000</td>\n",
       "      <td>0.000</td>\n",
       "      <td>0.000</td>\n",
       "      <td>0.000</td>\n",
       "      <td>0.000</td>\n",
       "      <td>0.000</td>\n",
       "      <td>0.000</td>\n",
       "    </tr>\n",
       "    <tr>\n",
       "      <th>B00001W0GC</th>\n",
       "      <td>0.000</td>\n",
       "      <td>0.000</td>\n",
       "      <td>0.000</td>\n",
       "      <td>0.000</td>\n",
       "      <td>0.000</td>\n",
       "      <td>0.000</td>\n",
       "      <td>0.000</td>\n",
       "      <td>0.000</td>\n",
       "      <td>0.000</td>\n",
       "      <td>0.000</td>\n",
       "      <td>...</td>\n",
       "      <td>0.000</td>\n",
       "      <td>0.000</td>\n",
       "      <td>0.000</td>\n",
       "      <td>0.000</td>\n",
       "      <td>0.000</td>\n",
       "      <td>0.000</td>\n",
       "      <td>0.000</td>\n",
       "      <td>0.000</td>\n",
       "      <td>0.000</td>\n",
       "      <td>0.000</td>\n",
       "    </tr>\n",
       "  </tbody>\n",
       "</table>\n",
       "<p>5 rows × 68937 columns</p>\n",
       "</div>"
      ],
      "text/plain": [
       "User_Id     A0010876CNE3ILIM9HV0  A002971836EL17MBMEJ9U  \\\n",
       "Product_Id                                                \n",
       "0000031887                 0.000                  0.000   \n",
       "0123456479                 0.000                  0.000   \n",
       "1608299953                 0.000                  0.000   \n",
       "1617160377                 0.000                  0.000   \n",
       "B00001W0GC                 0.000                  0.000   \n",
       "\n",
       "User_Id     A00341903TT44QTIBXWZC  A00618841YOLM01K79Z8P  \\\n",
       "Product_Id                                                 \n",
       "0000031887                  0.000                  0.000   \n",
       "0123456479                  0.000                  0.000   \n",
       "1608299953                  0.000                  0.000   \n",
       "1617160377                  0.000                  0.000   \n",
       "B00001W0GC                  0.000                  0.000   \n",
       "\n",
       "User_Id     A00635603LUUJQPQWSJW1  A006691321KQETNLF2AUR  \\\n",
       "Product_Id                                                 \n",
       "0000031887                  0.000                  0.000   \n",
       "0123456479                  0.000                  0.000   \n",
       "1608299953                  0.000                  0.000   \n",
       "1617160377                  0.000                  0.000   \n",
       "B00001W0GC                  0.000                  0.000   \n",
       "\n",
       "User_Id     A00678552PJMSLWDEUVT2  A0096585SGN72YC4RMDV  A0096637H8A2HR1P2MRH  \\\n",
       "Product_Id                                                                      \n",
       "0000031887                  0.000                 0.000                 0.000   \n",
       "0123456479                  0.000                 0.000                 0.000   \n",
       "1608299953                  0.000                 0.000                 0.000   \n",
       "1617160377                  0.000                 0.000                 0.000   \n",
       "B00001W0GC                  0.000                 0.000                 0.000   \n",
       "\n",
       "User_Id     A01086133UN669FB4IGT5  ...  AZZIR2M36EGED  AZZJ3Z0NP2F2O  \\\n",
       "Product_Id                         ...                                 \n",
       "0000031887                  0.000  ...          0.000          0.000   \n",
       "0123456479                  0.000  ...          0.000          0.000   \n",
       "1608299953                  0.000  ...          0.000          0.000   \n",
       "1617160377                  0.000  ...          0.000          0.000   \n",
       "B00001W0GC                  0.000  ...          0.000          0.000   \n",
       "\n",
       "User_Id     AZZLE0BWGUCMA  AZZMDW27MUJR6  AZZO5BF7J2MQ3  AZZOCU3SC5UPL  \\\n",
       "Product_Id                                                               \n",
       "0000031887          0.000          0.000          0.000          0.000   \n",
       "0123456479          0.000          0.000          0.000          0.000   \n",
       "1608299953          0.000          0.000          0.000          0.000   \n",
       "1617160377          0.000          0.000          0.000          0.000   \n",
       "B00001W0GC          0.000          0.000          0.000          0.000   \n",
       "\n",
       "User_Id     AZZOVA4R01IJ  AZZPXOXHYXG0F  AZZQWFXGO0A0L  AZZTOUKVTUMVM  \n",
       "Product_Id                                                             \n",
       "0000031887         0.000          0.000          0.000          0.000  \n",
       "0123456479         0.000          0.000          0.000          0.000  \n",
       "1608299953         0.000          0.000          0.000          0.000  \n",
       "1617160377         0.000          0.000          0.000          0.000  \n",
       "B00001W0GC         0.000          0.000          0.000          0.000  \n",
       "\n",
       "[5 rows x 68937 columns]"
      ]
     },
     "execution_count": 37,
     "metadata": {},
     "output_type": "execute_result"
    }
   ],
   "source": [
    "product_features_df.head()"
   ]
  },
  {
   "cell_type": "code",
   "execution_count": 39,
   "metadata": {},
   "outputs": [
    {
     "name": "stdout",
     "output_type": "stream",
     "text": [
      "Recommendations for B00009QB5V:\n",
      "1: B0001ZO3WU, with distance of 0.9861002982692864\n",
      "2: B00007GD9W, with distance of 0.9874773259553963\n",
      "3: B0002TOZ2S, with distance of 0.9916404592950356\n",
      "4: B000086910, with distance of 0.9947487239523979\n",
      "5: B0002M4VG0, with distance of 0.9951028749983636\n"
     ]
    }
   ],
   "source": [
    "#to get recommendation of a product \n",
    "\n",
    "for i in range(0, len(distances.flatten())):\n",
    "    if i == 0:\n",
    "        print('Recommendations for {0}:'.format(product_features_df.index[query_index]))\n",
    "    else:\n",
    "        print('{0}: {1}, with distance of {2}'.format(i,product_features_df.index[indices.flatten()[i]], distances.flatten()[i]))"
   ]
  },
  {
   "cell_type": "code",
   "execution_count": 41,
   "metadata": {},
   "outputs": [
    {
     "name": "stdout",
     "output_type": "stream",
     "text": [
      "Recommendations for B00009QB5V:\n",
      "1: B0001ZO3WU, with distance of 0.9861002982692864\n",
      "2: B00007GD9W, with distance of 0.9874773259553963\n",
      "3: B0002TOZ2S, with distance of 0.9916404592950356\n",
      "4: B000086910, with distance of 0.9947487239523979\n",
      "5: B0002M4VG0, with distance of 0.9951028749983636\n"
     ]
    }
   ],
   "source": [
    "#to get recommendation of a product \n",
    "\n",
    "for i in range(0, len(distances.flatten())):\n",
    "    if i == 0:\n",
    "        print('Recommendations for {0}:'.format(product_features_df.index[query_index]))\n",
    "    else:\n",
    "        print('{0}: {1}, with distance of {2}'.format(i,product_features_df.index[indices.flatten()[i]], distances.flatten()[i]))\n",
    "        \n",
    "        "
   ]
  },
  {
   "cell_type": "code",
   "execution_count": null,
   "metadata": {},
   "outputs": [],
   "source": [
    "#The most recommended product is with less distance i.e. B0001ZO3WU"
   ]
  }
 ],
 "metadata": {
  "kernelspec": {
   "display_name": "Python 3",
   "language": "python",
   "name": "python3"
  },
  "language_info": {
   "codemirror_mode": {
    "name": "ipython",
    "version": 3
   },
   "file_extension": ".py",
   "mimetype": "text/x-python",
   "name": "python",
   "nbconvert_exporter": "python",
   "pygments_lexer": "ipython3",
   "version": "3.7.4"
  }
 },
 "nbformat": 4,
 "nbformat_minor": 4
}
