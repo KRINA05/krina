{
 "cells": [
  {
   "cell_type": "code",
   "execution_count": 1,
   "metadata": {},
   "outputs": [],
   "source": [
    "import numpy as np\n",
    "import cv2\n",
    "import glob\n",
    "import random"
   ]
  },
  {
   "cell_type": "code",
   "execution_count": null,
   "metadata": {},
   "outputs": [
    {
     "name": "stdout",
     "output_type": "stream",
     "text": [
      "()\n",
      "()\n",
      "[[0]]\n",
      "()\n",
      "[[0]]\n",
      "()\n",
      "[[1]]\n",
      "[[0]]\n",
      "[[0]]\n",
      "[[0]]\n",
      "[[0]]\n",
      "[[0]]\n",
      "[[0]]\n",
      "[[0]]\n",
      "()\n",
      "[[1]]\n",
      "[[0]]\n"
     ]
    }
   ],
   "source": [
    "#LOAD YOLO\n",
    "net=cv2.dnn.readNet(\"C:\\\\Users\\\\krina\\\\yolo_custom_detection\\\\yolov3_training_last (2).weights\",\"C:\\\\Users\\krina\\\\yolo_custom_detection\\yolov3_testing.cfg\")\n",
    "classes=[\"helmet\"]\n",
    "images_path=glob.glob(r\"C:\\Users\\krina\\TESTING\\*.png\")\n",
    "#images_path=glob.glob(r\"C:\\Users\\krina\\helmet\\*.jpg\")\n",
    "\n",
    "layer_names=net.getLayerNames()\n",
    "output_layers=[layer_names[i[0]-1] for i in net.getUnconnectedOutLayers()]\n",
    "#colors=np.random.uniform(0,255,size=(len(classes),3))#different colors for different classes(objects)\n",
    "\n",
    "random.shuffle(images_path)\n",
    "\n",
    "for img_path in images_path:\n",
    "    \n",
    "    \n",
    "#loading image(to dtect as many objects we can detect in this image)\n",
    "    img=cv2.imread(img_path)\n",
    "    img=cv2.resize(img,None,fx=0.4,fy=0.4)\n",
    "    height,width,channels=img.shape\n",
    "\n",
    "    #blob is the way to extract features from the image(detecting objects)(we go with bgr)\n",
    "    blob=cv2.dnn.blobFromImage(img,0.00392,(416,416),(0,0,0),True,crop=False)\n",
    "\n",
    "\n",
    "    net.setInput(blob)\n",
    "    outs=net.forward(output_layers)\n",
    "#print(outs) #contains all the information\n",
    "\n",
    "#showing information on screen\n",
    "    class_ids=[]#empty arrays\n",
    "    confidences=[]\n",
    "    boxes=[]\n",
    "    for out in outs:\n",
    "        for detection in out:\n",
    "            scores=detection[5:]\n",
    "            class_id=np.argmax(scores) #no of objects we have\n",
    "            confidence=scores[class_id]\n",
    "            if confidence>0.5:\n",
    "                \n",
    "                center_x=int(detection[0]*width)\n",
    "                center_y=int(detection[1]*height)\n",
    "                w=int(detection[2]*width)\n",
    "                h=int(detection[3]*height)\n",
    "            \n",
    "                #Rectangle coordinates\n",
    "                x=int(center_x-w/2)#top left x\n",
    "                y=int(center_y-h/2)#top left y\n",
    "            \n",
    "                boxes.append([x,y,w,h])\n",
    "                confidences.append(float(confidence)) #% of confidence\n",
    "                class_ids.append(class_id)#name of teh object detected\n",
    "            \n",
    "    indexes=cv2.dnn.NMSBoxes(boxes,confidences,0.5,0.4) #removes noise\n",
    "    print(indexes)\n",
    "    for i in range(len(boxes)):\n",
    "        if i in indexes: #index of box inside ,then we show box ow not\n",
    "            x,y,w,h=boxes[i]\n",
    "            label=str(classes[class_ids[i]])\n",
    "            cv2.rectangle(img,(x,y),(x+w,y+h),(0,255,0),1)\n",
    "    \n",
    "    cv2.imshow(\"Image\",img)\n",
    "    cv2.waitKey(0)\n",
    "cv2.destroyAllWindows()"
   ]
  },
  {
   "cell_type": "code",
   "execution_count": null,
   "metadata": {},
   "outputs": [],
   "source": []
  }
 ],
 "metadata": {
  "kernelspec": {
   "display_name": "Python 3",
   "language": "python",
   "name": "python3"
  },
  "language_info": {
   "codemirror_mode": {
    "name": "ipython",
    "version": 3
   },
   "file_extension": ".py",
   "mimetype": "text/x-python",
   "name": "python",
   "nbconvert_exporter": "python",
   "pygments_lexer": "ipython3",
   "version": "3.7.4"
  }
 },
 "nbformat": 4,
 "nbformat_minor": 4
}
