{
 "cells": [
  {
   "cell_type": "code",
   "execution_count": 4,
   "metadata": {},
   "outputs": [],
   "source": [
    "# CNN AND OPENCV FOR MASK DETECTION"
   ]
  },
  {
   "cell_type": "code",
   "execution_count": 5,
   "metadata": {},
   "outputs": [],
   "source": [
    "# WE GET IMAGE WITH A FACE AND APPLY TO CASCADECLASSIFIER , THE CASCADECLASSIFIER WILL GIVE ME THE REGION OF INTEREST OF THE FACE(x,y,w,h), and we get roi and resize it to 100*100 image and thereafter pass it to pretrained cnn and gives you output probability with mask and without mask., cnn predicts mask or not mask\n",
    "\n",
    "#dataset by prajhna bhandare and available on github, it is an augmented dataset, 1376 images= 690 with mask fac and 686 withut mask face"
   ]
  },
  {
   "cell_type": "code",
   "execution_count": 1,
   "metadata": {},
   "outputs": [
    {
     "name": "stderr",
     "output_type": "stream",
     "text": [
      "Using TensorFlow backend.\n"
     ]
    }
   ],
   "source": [
    "#DATA PREPROCESSING\n",
    "import keras"
   ]
  },
  {
   "cell_type": "code",
   "execution_count": 10,
   "metadata": {},
   "outputs": [],
   "source": [
    "# in this we get images with different colour ans sizes and convert it into gray scale image because color not important to detect face with mask or without , and we resie it to 100 by 100 since we need coommon size to train into neural network, so we import libraries."
   ]
  },
  {
   "cell_type": "code",
   "execution_count": 13,
   "metadata": {},
   "outputs": [
    {
     "name": "stdout",
     "output_type": "stream",
     "text": [
      "{'with mask': 0, 'without mask': 1}\n",
      "['with mask', 'without mask']\n",
      "[0, 1]\n"
     ]
    }
   ],
   "source": [
    "import cv2,os\n",
    "\n",
    "data_path='C://Users//krina//dataset' #path with dataset\n",
    "categories=os.listdir(data_path) #load folder names\n",
    "labels=[i for i in range(len(categories))] #labells will be 0 and 1\n",
    "\n",
    "label_dict=dict(zip(categories,labels)) #label dict and zip with and without mask\n",
    "\n",
    "print(label_dict)\n",
    "print(categories)\n",
    "print(labels)"
   ]
  },
  {
   "cell_type": "code",
   "execution_count": 14,
   "metadata": {},
   "outputs": [],
   "source": [
    "img_size=100 #100 by 100\n",
    "data=[] #save images\n",
    "target=[] #and target that are the labels\n",
    "\n",
    "\n",
    "for category in categories: #categories are two folders with and without mask\n",
    "    folder_path=os.path.join(data_path,category) #create folder path\n",
    "    img_names=os.listdir(folder_path) #image names in a list\n",
    "        \n",
    "    for img_name in img_names: #image inside folder\n",
    "        img_path=os.path.join(folder_path,img_name) #and load it \n",
    "        img=cv2.imread(img_path)\n",
    "\n",
    "        try:\n",
    "            gray=cv2.cvtColor(img,cv2.COLOR_BGR2GRAY)#convert images to grayscale       \n",
    "            #Coverting the image into gray scale\n",
    "            resized=cv2.resize(gray,(img_size,img_size))\n",
    "            #resizing the gray scale into 100x100, since we need a fixed common size for all the images in the dataset\n",
    "            data.append(resized)\n",
    "            target.append(label_dict[category])\n",
    "            #appending the image and the (target, 0 and 1 )(0 with mask and 1 wihtout mask)label(categorized) into the list (dataset)\n",
    "\n",
    "        except Exception as e: #since sometimes image will not be available\n",
    "            print('Exception:',e)\n",
    "            #if any exception rasied, the exception will be printed here. And pass to the next image"
   ]
  },
  {
   "cell_type": "code",
   "execution_count": 15,
   "metadata": {},
   "outputs": [],
   "source": [
    "import numpy as np\n",
    "\n",
    "data=np.array(data)/255.0 #normalize images 255 to convert pixel range to  0 or 1\n",
    "data=np.reshape(data,(data.shape[0],img_size,img_size,1)) # 4 d array since nn needs 4 d array and gray scale the images\n",
    "target=np.array(target) #target\n",
    "\n",
    "from keras.utils import np_utils\n",
    "\n",
    "new_target=np_utils.to_categorical(target) #categorical representation, since last layer of neural network has two nodes one with with mask and without mask"
   ]
  },
  {
   "cell_type": "code",
   "execution_count": 16,
   "metadata": {},
   "outputs": [],
   "source": [
    "np.save('data',data) #data will contain images\n",
    "np.save('target',new_target) #contains face with mask or without mask"
   ]
  },
  {
   "cell_type": "code",
   "execution_count": 17,
   "metadata": {},
   "outputs": [],
   "source": [
    "#TRAINING CNN"
   ]
  },
  {
   "cell_type": "code",
   "execution_count": 18,
   "metadata": {},
   "outputs": [],
   "source": [
    "#cnn architecture 100*100 size image , 2 conv layers , import the data and target then 2 convol layers , 1st layer with 200 kernels of 3*3 and 2nd layer of 100 kernels with 3*3, then flatten those convolution ,then finally to dense layer of 50 neurons , then the output layer with 2 neurons.- with mask and without mask"
   ]
  },
  {
   "cell_type": "code",
   "execution_count": 19,
   "metadata": {},
   "outputs": [],
   "source": [
    "import numpy as np\n",
    "\n",
    "data=np.load('data.npy')\n",
    "target=np.load('target.npy')\n",
    "\n",
    "#loading the save numpy arrays in the previous code"
   ]
  },
  {
   "cell_type": "code",
   "execution_count": 20,
   "metadata": {},
   "outputs": [],
   "source": [
    "from keras.models import Sequential\n",
    "from keras.layers import Dense,Activation,Flatten,Dropout\n",
    "from keras.layers import Conv2D,MaxPooling2D\n",
    "from keras.callbacks import ModelCheckpoint\n",
    "\n",
    "model=Sequential()\n",
    "\n",
    "model.add(Conv2D(200,(3,3),input_shape=data.shape[1:])) #1st convo layer , (loading , activaton by relu and pooling) \n",
    "model.add(Activation('relu'))\n",
    "model.add(MaxPooling2D(pool_size=(2,2)))\n",
    "#The first CNN layer followed by Relu and MaxPooling layers\n",
    "\n",
    "model.add(Conv2D(100,(3,3)))# 2nd convo layer\n",
    "model.add(Activation('relu'))\n",
    "model.add(MaxPooling2D(pool_size=(2,2)))\n",
    "#The second convolution layer followed by Relu and MaxPooling layers\n",
    "\n",
    "model.add(Conv2D(100,(3,3)))\n",
    "model.add(Activation('relu'))\n",
    "model.add(MaxPooling2D(pool_size=(2,2)))\n",
    "#The third convolution layer followed by Relu and MaxPooling layers\n",
    "\n",
    "model.add(Flatten()) #flatten\n",
    "model.add(Dropout(0.5)) #dropout to get rid of overrfitting\n",
    "#Flatten layer to stack the output convolutions from second convolution layer\n",
    "model.add(Dense(50,activation='relu'))\n",
    "#Dense layer of 64 neurons\n",
    "model.add(Dense(2,activation='softmax'))\n",
    "#The Final layer with two outputs for two categories\n",
    "\n",
    "model.compile(loss='categorical_crossentropy',optimizer='adam',metrics=['accuracy']) #since two categories, and print accuracy with adam optimizer"
   ]
  },
  {
   "cell_type": "code",
   "execution_count": 21,
   "metadata": {},
   "outputs": [],
   "source": [
    "from sklearn.model_selection import train_test_split #train and test\n",
    "\n",
    "train_data,test_data,train_target,test_target=train_test_split(data,target,test_size=0.3)"
   ]
  },
  {
   "cell_type": "code",
   "execution_count": 22,
   "metadata": {},
   "outputs": [
    {
     "name": "stdout",
     "output_type": "stream",
     "text": [
      "Train on 770 samples, validate on 193 samples\n",
      "Epoch 1/20\n",
      "770/770 [==============================] - 55s 72ms/step - loss: 0.6933 - accuracy: 0.5169 - val_loss: 0.6633 - val_accuracy: 0.6736\n",
      "Epoch 2/20\n",
      "770/770 [==============================] - 43s 55ms/step - loss: 0.6172 - accuracy: 0.6727 - val_loss: 0.5783 - val_accuracy: 0.7047\n",
      "Epoch 3/20\n",
      "770/770 [==============================] - 41s 54ms/step - loss: 0.4472 - accuracy: 0.8156 - val_loss: 0.4023 - val_accuracy: 0.8135\n",
      "Epoch 4/20\n",
      "770/770 [==============================] - 42s 55ms/step - loss: 0.3448 - accuracy: 0.8818 - val_loss: 0.3150 - val_accuracy: 0.8705\n",
      "Epoch 5/20\n",
      "770/770 [==============================] - 41s 54ms/step - loss: 0.2384 - accuracy: 0.9143 - val_loss: 0.1900 - val_accuracy: 0.9119\n",
      "Epoch 6/20\n",
      "770/770 [==============================] - 41s 54ms/step - loss: 0.1766 - accuracy: 0.9312 - val_loss: 0.1778 - val_accuracy: 0.9275\n",
      "Epoch 7/20\n",
      "770/770 [==============================] - 44s 57ms/step - loss: 0.1512 - accuracy: 0.9494 - val_loss: 0.1531 - val_accuracy: 0.9275\n",
      "Epoch 8/20\n",
      "770/770 [==============================] - 44s 57ms/step - loss: 0.1101 - accuracy: 0.9597 - val_loss: 0.1336 - val_accuracy: 0.9430\n",
      "Epoch 9/20\n",
      "770/770 [==============================] - 43s 56ms/step - loss: 0.0932 - accuracy: 0.9675 - val_loss: 0.1363 - val_accuracy: 0.9378\n",
      "Epoch 10/20\n",
      "770/770 [==============================] - 43s 56ms/step - loss: 0.1197 - accuracy: 0.9636 - val_loss: 0.1662 - val_accuracy: 0.9275\n",
      "Epoch 11/20\n",
      "770/770 [==============================] - 44s 57ms/step - loss: 0.0847 - accuracy: 0.9714 - val_loss: 0.1371 - val_accuracy: 0.9326\n",
      "Epoch 12/20\n",
      "770/770 [==============================] - 43s 56ms/step - loss: 0.0783 - accuracy: 0.9649 - val_loss: 0.1427 - val_accuracy: 0.9378\n",
      "Epoch 13/20\n",
      "770/770 [==============================] - 46s 59ms/step - loss: 0.0805 - accuracy: 0.9675 - val_loss: 0.1443 - val_accuracy: 0.9430\n",
      "Epoch 14/20\n",
      "770/770 [==============================] - 45s 58ms/step - loss: 0.0581 - accuracy: 0.9792 - val_loss: 0.3476 - val_accuracy: 0.8808\n",
      "Epoch 15/20\n",
      "770/770 [==============================] - 45s 58ms/step - loss: 0.2760 - accuracy: 0.9208 - val_loss: 0.1989 - val_accuracy: 0.9067\n",
      "Epoch 16/20\n",
      "770/770 [==============================] - 43s 56ms/step - loss: 0.0758 - accuracy: 0.9662 - val_loss: 0.1442 - val_accuracy: 0.9326\n",
      "Epoch 17/20\n",
      "770/770 [==============================] - 42s 54ms/step - loss: 0.0596 - accuracy: 0.9805 - val_loss: 0.1367 - val_accuracy: 0.9482\n",
      "Epoch 18/20\n",
      "770/770 [==============================] - 42s 54ms/step - loss: 0.0520 - accuracy: 0.9779 - val_loss: 0.1216 - val_accuracy: 0.9430\n",
      "Epoch 19/20\n",
      "770/770 [==============================] - 43s 56ms/step - loss: 0.0403 - accuracy: 0.9883 - val_loss: 0.1313 - val_accuracy: 0.9430\n",
      "Epoch 20/20\n",
      "770/770 [==============================] - 43s 56ms/step - loss: 0.0235 - accuracy: 0.9909 - val_loss: 0.1332 - val_accuracy: 0.9378\n"
     ]
    }
   ],
   "source": [
    "checkpoint = ModelCheckpoint('model-{epoch:03d}.model',monitor='val_loss',verbose=0,save_best_only=True,mode='auto')\n",
    "history=model.fit(train_data,train_target,epochs=20,callbacks=[checkpoint],validation_split=0.2) #save model for each epoch, then monitor validation loss, save best if increases losss not saved, then train data for 20 epochs and then add callback and useing 20 %validation data "
   ]
  },
  {
   "cell_type": "code",
   "execution_count": 23,
   "metadata": {},
   "outputs": [],
   "source": [
    "#accuracy 0.99 and validation accuracy 0.95\n",
    "#17 epoch is better so we use the 17 one"
   ]
  },
  {
   "cell_type": "code",
   "execution_count": 24,
   "metadata": {},
   "outputs": [
    {
     "data": {
      "image/png": "[encoded data removed]",
      "text/plain": [
       "<Figure size 432x288 with 1 Axes>"
      ]
     },
     "metadata": {
      "needs_background": "light"
     },
     "output_type": "display_data"
    }
   ],
   "source": [
    "from matplotlib import pyplot as plt\n",
    "\n",
    "plt.plot(history.history['loss'],'r',label='training loss')\n",
    "plt.plot(history.history['val_loss'],label='validation loss')\n",
    "plt.xlabel('# epochs')\n",
    "plt.ylabel('loss')\n",
    "plt.legend()\n",
    "plt.show()\n",
    "\n",
    "#graph for loss \n",
    "#some overfiiting\n",
    "#trained well"
   ]
  },
  {
   "cell_type": "code",
   "execution_count": 25,
   "metadata": {},
   "outputs": [
    {
     "data": {
      "image/png": "[encoded data removed]",
      "text/plain": [
       "<Figure size 432x288 with 1 Axes>"
      ]
     },
     "metadata": {
      "needs_background": "light"
     },
     "output_type": "display_data"
    }
   ],
   "source": [
    "plt.plot(history.history['accuracy'],'r',label='training accuracy')\n",
    "plt.plot(history.history['val_accuracy'],label='validation accuracy')\n",
    "plt.xlabel('# epochs')\n",
    "plt.ylabel('loss')\n",
    "plt.legend()\n",
    "plt.show()\n",
    "#accuracy graph"
   ]
  },
  {
   "cell_type": "code",
   "execution_count": 26,
   "metadata": {},
   "outputs": [
    {
     "name": "stdout",
     "output_type": "stream",
     "text": [
      "413/413 [==============================] - 7s 17ms/step\n",
      "[0.07535167996259745, 0.9782082438468933]\n"
     ]
    }
   ],
   "source": [
    "print(model.evaluate(test_data,test_target))\n",
    "\n",
    "#testing accuracy of 96%"
   ]
  },
  {
   "cell_type": "code",
   "execution_count": 27,
   "metadata": {},
   "outputs": [],
   "source": [
    "#DETECT FACES WITH AND WITHOUT MASKS"
   ]
  },
  {
   "cell_type": "code",
   "execution_count": 28,
   "metadata": {},
   "outputs": [],
   "source": [
    "#WE INOUT IMAGE AND CASCADE CLASSIFIER WE GET ROI (X,Y,W,H) THEN COPY THEN RESIZE INTO 100 BY 100 AND PASS IT TP TRAIN CNN AND PREDICTS FACE WAND WITHOUR MASK"
   ]
  },
  {
   "cell_type": "code",
   "execution_count": 19,
   "metadata": {},
   "outputs": [],
   "source": [
    "#from keras.models import model_from_json\n",
    "from keras.models import load_model\n",
    "import cv2\n",
    "import numpy as np\n",
    "\n",
    "model = load_model('model-003.model') #loading my 17th epoch model\n",
    "\n",
    "face_clsfr=cv2.CascadeClassifier(cv2.data.haarcascades + \"haarcascade_frontalface_default.xml\")\n",
    "\n",
    "source=cv2.VideoCapture(0) #default webcam\n",
    "\n",
    "labels_dict={0:'MASK',1:'NO MASK'} #face with mask then 0 and face without mask then 1 \n",
    "color_dict={0:(0,255,0),1:(0,0,255)} #colors bounding rectangle with green color for face with mask and red color for face without mask"
   ]
  },
  {
   "cell_type": "code",
   "execution_count": 20,
   "metadata": {},
   "outputs": [
    {
     "ename": "KeyboardInterrupt",
     "evalue": "",
     "output_type": "error",
     "traceback": [
      "\u001b[1;31m---------------------------------------------------------------------------\u001b[0m",
      "\u001b[1;31mKeyboardInterrupt\u001b[0m                         Traceback (most recent call last)",
      "\u001b[1;32m<ipython-input-20-f1461e4cd219>\u001b[0m in \u001b[0;36m<module>\u001b[1;34m\u001b[0m\n\u001b[0;32m      3\u001b[0m     \u001b[0mret\u001b[0m\u001b[1;33m,\u001b[0m\u001b[0mimg\u001b[0m\u001b[1;33m=\u001b[0m\u001b[0msource\u001b[0m\u001b[1;33m.\u001b[0m\u001b[0mread\u001b[0m\u001b[1;33m(\u001b[0m\u001b[1;33m)\u001b[0m \u001b[1;31m#read frame by frame from camera\u001b[0m\u001b[1;33m\u001b[0m\u001b[1;33m\u001b[0m\u001b[0m\n\u001b[0;32m      4\u001b[0m     \u001b[0mgray\u001b[0m\u001b[1;33m=\u001b[0m\u001b[0mcv2\u001b[0m\u001b[1;33m.\u001b[0m\u001b[0mcvtColor\u001b[0m\u001b[1;33m(\u001b[0m\u001b[0mimg\u001b[0m\u001b[1;33m,\u001b[0m\u001b[0mcv2\u001b[0m\u001b[1;33m.\u001b[0m\u001b[0mCOLOR_BGR2GRAY\u001b[0m\u001b[1;33m)\u001b[0m \u001b[1;31m#convert to gray\u001b[0m\u001b[1;33m\u001b[0m\u001b[1;33m\u001b[0m\u001b[0m\n\u001b[1;32m----> 5\u001b[1;33m     \u001b[0mfaces\u001b[0m\u001b[1;33m=\u001b[0m\u001b[0mface_clsfr\u001b[0m\u001b[1;33m.\u001b[0m\u001b[0mdetectMultiScale\u001b[0m\u001b[1;33m(\u001b[0m\u001b[0mgray\u001b[0m\u001b[1;33m,\u001b[0m\u001b[1;36m1.3\u001b[0m\u001b[1;33m,\u001b[0m\u001b[1;36m5\u001b[0m\u001b[1;33m)\u001b[0m   \u001b[1;31m#detect face\u001b[0m\u001b[1;33m\u001b[0m\u001b[1;33m\u001b[0m\u001b[0m\n\u001b[0m\u001b[0;32m      6\u001b[0m \u001b[1;33m\u001b[0m\u001b[0m\n\u001b[0;32m      7\u001b[0m     \u001b[1;32mfor\u001b[0m \u001b[0mx\u001b[0m\u001b[1;33m,\u001b[0m\u001b[0my\u001b[0m\u001b[1;33m,\u001b[0m\u001b[0mw\u001b[0m\u001b[1;33m,\u001b[0m\u001b[0mh\u001b[0m \u001b[1;32min\u001b[0m \u001b[0mfaces\u001b[0m\u001b[1;33m:\u001b[0m\u001b[1;33m\u001b[0m\u001b[1;33m\u001b[0m\u001b[0m\n",
      "\u001b[1;31mKeyboardInterrupt\u001b[0m: "
     ]
    }
   ],
   "source": [
    "while(True):\n",
    "\n",
    "    ret,img=source.read() #read frame by frame from camera\n",
    "    gray=cv2.cvtColor(img,cv2.COLOR_BGR2GRAY) #convert to gray\n",
    "    faces=face_clsfr.detectMultiScale(gray,1.3,5)   #detect face\n",
    "\n",
    "    for x,y,w,h in faces:\n",
    "    \n",
    "        face_img=gray[y:y+w,x:x+w] #for each and every face with calculate roi\n",
    "        resized=cv2.resize(face_img,(100,100)) #then resize\n",
    "        normalized=resized/255.0 #normalize\n",
    "        reshaped=np.reshape(normalized,(1,100,100,1))#reshape to 4-d\n",
    "        result=model.predict(reshaped) #predict of model 17\n",
    "\n",
    "        label=np.argmax(result,axis=1)[0] #gives us ethe column no for max prob\n",
    "      \n",
    "        cv2.rectangle(img,(x,y),(x+w,y+h),color_dict[label],2)\n",
    "        cv2.rectangle(img,(x,y-40),(x+w,y),color_dict[label],-1)\n",
    "        cv2.putText(img, labels_dict[label], (x, y-10),cv2.FONT_HERSHEY_SIMPLEX,0.8,(255,255,255),2) #label mask and no mask\n",
    "        \n",
    "        \n",
    "    cv2.imshow('LIVE',img)\n",
    "    key=cv2.waitKey(1)\n",
    "    \n",
    "    if(key==27):\n",
    "        break\n",
    "        \n",
    "cv2.destroyAllWindows()\n",
    "source.release()"
   ]
  },
  {
   "cell_type": "code",
   "execution_count": null,
   "metadata": {},
   "outputs": [],
   "source": [
    "#result will be 1 row and 2 columns , we get two probabilities\n",
    "#result=[[p1,p2]] p1=0 and p2=1"
   ]
  },
  {
   "cell_type": "code",
   "execution_count": null,
   "metadata": {},
   "outputs": [],
   "source": []
  }
 ],
 "metadata": {
  "kernelspec": {
   "display_name": "Python 3",
   "language": "python",
   "name": "python3"
  },
  "language_info": {
   "codemirror_mode": {
    "name": "ipython",
    "version": 3
   },
   "file_extension": ".py",
   "mimetype": "text/x-python",
   "name": "python",
   "nbconvert_exporter": "python",
   "pygments_lexer": "ipython3",
   "version": "3.7.4"
  }
 },
 "nbformat": 4,
 "nbformat_minor": 4
}
